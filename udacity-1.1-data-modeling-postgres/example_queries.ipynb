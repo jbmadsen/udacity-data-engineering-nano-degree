{
 "cells": [
  {
   "cell_type": "code",
   "execution_count": 5,
   "metadata": {
    "editable": true
   },
   "outputs": [],
   "source": [
    "import os\n",
    "import glob\n",
    "import psycopg2\n",
    "import pandas as pd"
   ]
  },
  {
   "cell_type": "code",
   "execution_count": 6,
   "metadata": {
    "editable": true
   },
   "outputs": [],
   "source": [
    "conn = psycopg2.connect(\"host=127.0.0.1 dbname=sparkifydb user=student password=student\")\n",
    "cur = conn.cursor()"
   ]
  },
  {
   "cell_type": "code",
   "execution_count": 10,
   "metadata": {
    "editable": true
   },
   "outputs": [
    {
     "name": "stdout",
     "output_type": "stream",
     "text": [
      "[(49, 689), (80, 665), (97, 557), (15, 463), (44, 397), (29, 346), (24, 321), (73, 289), (88, 270), (36, 248)]\n"
     ]
    }
   ],
   "source": [
    "# Get most overall active users in terms of playcount\n",
    "query = '''\n",
    "SELECT user_id, count(user_id)\n",
    "FROM songplays\n",
    "GROUP BY user_id\n",
    "ORDER BY count(user_id) DESC\n",
    "LIMIT 10\n",
    "'''\n",
    "\n",
    "cur.execute(query)\n",
    "results = cur.fetchall()\n",
    "print(results)"
   ]
  },
  {
   "cell_type": "code",
   "execution_count": 12,
   "metadata": {
    "editable": true
   },
   "outputs": [
    {
     "name": "stdout",
     "output_type": "stream",
     "text": [
      "[(49, 650), (80, 648), (97, 557), (15, 462), (44, 397), (29, 341), (24, 321), (73, 289), (36, 241), (88, 241)]\n"
     ]
    }
   ],
   "source": [
    "# Get most overall active users in terms of playcount, for paid users\n",
    "query = '''\n",
    "SELECT user_id, count(user_id)\n",
    "FROM songplays\n",
    "WHERE level = 'paid'\n",
    "GROUP BY user_id\n",
    "ORDER BY count(user_id) DESC\n",
    "LIMIT 10\n",
    "'''\n",
    "\n",
    "cur.execute(query)\n",
    "results = cur.fetchall()\n",
    "print(results)"
   ]
  },
  {
   "cell_type": "code",
   "execution_count": 15,
   "metadata": {
    "editable": true
   },
   "outputs": [
    {
     "name": "stdout",
     "output_type": "stream",
     "text": [
      "[(29, 117, 589), (24, 111, 984), (30, 108, 324), (24, 106, 672), (15, 101, 221), (97, 99, 293), (49, 92, 1041), (97, 85, 605), (44, 81, 619), (95, 80, 411)]\n"
     ]
    }
   ],
   "source": [
    "# Get most overall active users in terms of playcount, within a single session\n",
    "query = '''\n",
    "SELECT user_id, count(session_id), session_id\n",
    "FROM songplays\n",
    "GROUP BY user_id, session_id\n",
    "ORDER BY count(session_id) DESC\n",
    "LIMIT 10\n",
    "'''\n",
    "\n",
    "cur.execute(query)\n",
    "results = cur.fetchall()\n",
    "print(results)"
   ]
  },
  {
   "cell_type": "code",
   "execution_count": null,
   "metadata": {
    "editable": true
   },
   "outputs": [],
   "source": []
  },
  {
   "cell_type": "code",
   "execution_count": null,
   "metadata": {
    "editable": true
   },
   "outputs": [],
   "source": []
  },
  {
   "cell_type": "code",
   "execution_count": null,
   "metadata": {
    "editable": true
   },
   "outputs": [],
   "source": []
  },
  {
   "cell_type": "code",
   "execution_count": 4,
   "metadata": {
    "editable": true
   },
   "outputs": [],
   "source": [
    "conn.close()"
   ]
  },
  {
   "cell_type": "code",
   "execution_count": null,
   "metadata": {
    "editable": true
   },
   "outputs": [],
   "source": []
  }
 ],
 "metadata": {
  "kernelspec": {
   "display_name": "Python 3",
   "language": "python",
   "name": "python3"
  },
  "language_info": {
   "codemirror_mode": {
    "name": "ipython",
    "version": 3
   },
   "file_extension": ".py",
   "mimetype": "text/x-python",
   "name": "python",
   "nbconvert_exporter": "python",
   "pygments_lexer": "ipython3",
   "version": "3.6.3"
  }
 },
 "nbformat": 4,
 "nbformat_minor": 4
}

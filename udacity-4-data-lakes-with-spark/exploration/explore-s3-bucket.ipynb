{
 "cells": [
  {
   "cell_type": "code",
   "execution_count": null,
   "metadata": {},
   "outputs": [],
   "source": [
    "# Exploration of S3 data sources"
   ]
  },
  {
   "cell_type": "code",
   "execution_count": null,
   "metadata": {},
   "outputs": [],
   "source": [
    "# Import\n",
    "import os\n",
    "import sys\n",
    "import configparser\n",
    "import boto3"
   ]
  },
  {
   "cell_type": "code",
   "execution_count": null,
   "metadata": {},
   "outputs": [],
   "source": [
    "# Setup\n",
    "\n",
    "# Set path to current directory\n",
    "home = os.path.expanduser('~')\n",
    "project_path = os.path.join(home,'git','udacity-data-engineering-nano-degree','udacity-4-data-lakes-with-spark')\n",
    "os.chdir(project_path)\n",
    "\n",
    "# Open and read the contents of the keys file\n",
    "iac_keys = configparser.ConfigParser()\n",
    "iac_keys.read_file(open('./keys.cfg'))\n",
    "\n",
    "# Load all the keys needed to connect to AWS services\n",
    "KEY             = iac_keys.get('AWS','AWS_ACCESS_KEY_ID')\n",
    "SECRET          = iac_keys.get('AWS','AWS_SECRET_ACCESS_KEY')\n",
    "\n",
    "# Open and read the contents of the config file\n",
    "iac_config = configparser.ConfigParser()\n",
    "iac_config.read_file(open('./dl.cfg'))\n",
    "\n",
    "# Load all the keys needed to create the EMR cluster\n",
    "DL_REGION       = iac_config.get(\"DL\",\"DL_REGION\")\n",
    "\n",
    "# Creating resources/clients for infrastructure: S3\n",
    "s3 = boto3.client('s3',\n",
    "                  region_name=DL_REGION, \n",
    "                  aws_access_key_id=KEY,\n",
    "                  aws_secret_access_key=SECRET,)\n"
   ]
  },
  {
   "cell_type": "code",
   "execution_count": null,
   "metadata": {},
   "outputs": [],
   "source": [
    "# List top level objects in bucket path\n",
    "paginator = s3.get_paginator('list_objects')\n",
    "result = paginator.paginate(Bucket='udacity-dend', Delimiter='/')\n",
    "for prefix in result.search('CommonPrefixes'):\n",
    "    print(prefix.get('Prefix'))"
   ]
  }
 ],
 "metadata": {
  "kernelspec": {
   "display_name": "Python 3.7.6 64-bit",
   "language": "python",
   "name": "python37664bit079b8e0c18c84c07a446e24cf94e2db0"
  },
  "language_info": {
   "codemirror_mode": {
    "name": "ipython",
    "version": 3
   },
   "file_extension": ".py",
   "mimetype": "text/x-python",
   "name": "python",
   "nbconvert_exporter": "python",
   "pygments_lexer": "ipython3",
   "version": "3.7.6-final"
  }
 },
 "nbformat": 4,
 "nbformat_minor": 4
}
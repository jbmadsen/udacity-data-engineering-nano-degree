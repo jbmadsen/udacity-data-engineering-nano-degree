{
 "cells": [
  {
   "cell_type": "code",
   "execution_count": 1,
   "metadata": {},
   "outputs": [],
   "source": [
    "# Error you might be getting:\n",
    "# \"EMR_DefaultRole is invalid\" or \"EMR_EC2_DefaultRole is invalid\" error when creating an Amazon EMR cluster\n",
    "# \n",
    "# Short Description\n",
    "# These errors occur when the Amazon Elastic Compute Cloud (Amazon EC2) instance profile associated with the default roles isn't configured correctly. Delete the roles and the instance profile. Then, recreate the roles.\n",
    "# \n",
    "# Lets try to translate this:\n",
    "# https://aws.amazon.com/premiumsupport/knowledge-center/emr-default-role-invalid/\n",
    "# into something we can do using boto3\n",
    "# boto3 documentation: \n",
    "# https://boto3.amazonaws.com/v1/documentation/api/latest/index.html"
   ]
  },
  {
   "cell_type": "code",
   "execution_count": 6,
   "metadata": {},
   "outputs": [],
   "source": [
    "# Import\n",
    "import os\n",
    "import sys\n",
    "import configparser\n",
    "import boto3"
   ]
  },
  {
   "cell_type": "code",
   "execution_count": 5,
   "metadata": {},
   "outputs": [],
   "source": [
    "# Setup\n",
    "\n",
    "# Set path to current directory\n",
    "home = os.path.expanduser('~')\n",
    "project_path = os.path.join(home,'git','udacity-data-engineering-nano-degree','udacity-4-data-lakes-with-spark')\n",
    "os.chdir(project_path)\n",
    "\n",
    "# Open and read the contents of the keys file\n",
    "iac_keys = configparser.ConfigParser()\n",
    "iac_keys.read_file(open('./keys.cfg'))\n",
    "\n",
    "# Load all the keys needed to connect to AWS services\n",
    "KEY             = iac_keys.get('AWS','AWS_ACCESS_KEY_ID')\n",
    "SECRET          = iac_keys.get('AWS','AWS_SECRET_ACCESS_KEY')\n",
    "\n",
    "# Open and read the contents of the config file\n",
    "iac_config = configparser.ConfigParser()\n",
    "iac_config.read_file(open('./dl.cfg'))\n",
    "\n",
    "# Load all the keys needed to create the EMR cluster\n",
    "DL_REGION       = iac_config.get(\"DL\",\"DL_REGION\")\n",
    "\n",
    "# Creating resources/clients for infrastructure: IAM\n",
    "iam = boto3.client('iam',\n",
    "                   region_name=DL_REGION, \n",
    "                   aws_access_key_id=KEY,\n",
    "                   aws_secret_access_key=SECRET,)\n",
    "\n",
    "# Creating resources/clients for infrastructure: IAM\n",
    "emr = boto3.client('emr',\n",
    "                   region_name=DL_REGION, \n",
    "                   aws_access_key_id=KEY,\n",
    "                   aws_secret_access_key=SECRET,)"
   ]
  },
  {
   "cell_type": "code",
   "execution_count": 2,
   "metadata": {},
   "outputs": [],
   "source": [
    "# 1.    Remove EMR_EC2_DefaultRole from the instance profile:\n",
    "# > aws iam remove-role-from-instance-profile --instance-profile-name EMR_EC2_DefaultRole --role-name EMR_EC2_DefaultRole\n",
    "iam.remove_role_from_instance_profile(\n",
    "    InstanceProfileName='EMR_EC2_DefaultRole',\n",
    "    RoleName='EMR_EC2_DefaultRole'\n",
    ")"
   ]
  },
  {
   "cell_type": "code",
   "execution_count": 3,
   "metadata": {},
   "outputs": [],
   "source": [
    "# 2.    Delete the instance profile:\n",
    "# > aws iam delete-instance-profile --instance-profile-name EMR_EC2_DefaultRole\n",
    "iam.delete_instance_profile(\n",
    "    InstanceProfileName='EMR_EC2_DefaultRole'\n",
    ")"
   ]
  },
  {
   "cell_type": "code",
   "execution_count": 4,
   "metadata": {},
   "outputs": [],
   "source": [
    "# 3.    Delete the IAM policy associated with EMR_EC2_DefaultRole:\n",
    "# > aws iam detach-role-policy --role-name EMR_EC2_DefaultRole --policy-arn arn:aws:iam::aws:policy/service-role/AmazonElasticMapReduceforEC2Role\n",
    "iam.detach_role_policy(\n",
    "    PolicyArn='arn:aws:iam::aws:policy/service-role/AmazonElasticMapReduceforEC2Role',\n",
    "    RoleName='EMR_EC2_DefaultRole'\n",
    ")"
   ]
  },
  {
   "cell_type": "code",
   "execution_count": 5,
   "metadata": {},
   "outputs": [],
   "source": [
    "# 4.    Delete EMR_EC2_DefaultRole:\n",
    "# > aws iam delete-role --role-name EMR_EC2_DefaultRole\n",
    "iam.delete_role(\n",
    "    RoleName='EMR_EC2_DefaultRole'\n",
    ")"
   ]
  },
  {
   "cell_type": "code",
   "execution_count": 6,
   "metadata": {},
   "outputs": [],
   "source": [
    "# 5.    Delete the IAM policy associated with EMR_DefaultRole:\n",
    "# > aws iam detach-role-policy --role-name EMR_DefaultRole --policy-arn arn:aws:iam::aws:policy/service-role/AmazonElasticMapReduceRole\n",
    "iam.detach_role_policy(\n",
    "    PolicyArn='arn:aws:iam::aws:policy/service-role/AmazonElasticMapReduceRole',\n",
    "    RoleName='EMR_DefaultRole'\n",
    ")"
   ]
  },
  {
   "cell_type": "code",
   "execution_count": 7,
   "metadata": {},
   "outputs": [],
   "source": [
    "# 6.    Delete EMR_DefaultRole:\n",
    "# > aws iam delete-role --role-name EMR_DefaultRole\n",
    "iam.delete_role(\n",
    "    RoleName='EMR_DefaultRole'\n",
    ")"
   ]
  },
  {
   "cell_type": "code",
   "execution_count": 8,
   "metadata": {},
   "outputs": [],
   "source": [
    "# 7.    Run create-default-roles to recreate the default roles:\n",
    "# > aws emr create-default-roles\n",
    "\n",
    "# Note: It does not appear there is an \"easy\" solution to this step. Either run 'aws emr create-default-roles' via the CLI tool (once per account per region), or build the default roles manually using IAM, using AWS guidelines:\n",
    "# "
   ]
  },
  {
   "cell_type": "code",
   "execution_count": 9,
   "metadata": {},
   "outputs": [],
   "source": [
    "# 8.    Launch a new Amazon EMR cluster."
   ]
  },
  {
   "cell_type": "code",
   "execution_count": null,
   "metadata": {},
   "outputs": [],
   "source": []
  }
 ],
 "metadata": {
  "kernelspec": {
   "display_name": "Python 3",
   "language": "python",
   "name": "python3"
  },
  "language_info": {
   "codemirror_mode": {
    "name": "ipython",
    "version": 3
   },
   "file_extension": ".py",
   "mimetype": "text/x-python",
   "name": "python",
   "nbconvert_exporter": "python",
   "pygments_lexer": "ipython3",
   "version": "3.7.6-final"
  }
 },
 "nbformat": 4,
 "nbformat_minor": 4
}
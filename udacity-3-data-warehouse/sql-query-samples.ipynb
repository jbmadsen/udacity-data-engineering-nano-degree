{
 "nbformat": 4,
 "nbformat_minor": 2,
 "metadata": {
  "language_info": {
   "name": "python",
   "codemirror_mode": {
    "name": "ipython",
    "version": 3
   },
   "version": "3.7.6-final"
  },
  "orig_nbformat": 2,
  "file_extension": ".py",
  "mimetype": "text/x-python",
  "name": "python",
  "npconvert_exporter": "python",
  "pygments_lexer": "ipython3",
  "version": 3,
  "kernelspec": {
   "name": "python3",
   "display_name": "Python 3"
  }
 },
 "cells": [
  {
   "cell_type": "code",
   "execution_count": 1,
   "metadata": {},
   "outputs": [],
   "source": [
    "# Import needed libraries\n",
    "import os\n",
    "import sys\n",
    "import psycopg2\n",
    "import pandas as pd \n",
    "import boto3\n",
    "import botocore.exceptions\n",
    "import json\n",
    "import configparser"
   ]
  },
  {
   "cell_type": "code",
   "execution_count": 2,
   "metadata": {},
   "outputs": [
    {
     "name": "stdout",
     "output_type": "stream",
     "text": "Connected to AWS Redshift cluster\n"
    }
   ],
   "source": [
    "# Test connection\n",
    "try:\n",
    "    dwh_config = configparser.ConfigParser()\n",
    "    dwh_config.read_file(open('./dwh.cfg'))\n",
    "\n",
    "    conn = psycopg2.connect(\"host={} dbname={} user={} password={} port={}\".format(*dwh_config['CLUSTER'].values()))\n",
    "\n",
    "    cur = conn.cursor()\n",
    "    print('Connected to AWS Redshift cluster')\n",
    "    conn.close()\n",
    "except Exception as e:\n",
    "    print(\"Error connecting to Redshift cluster:\", e)"
   ]
  },
  {
   "cell_type": "code",
   "execution_count": 3,
   "metadata": {},
   "outputs": [],
   "source": [
    "# Connect\n",
    "dwh_config = configparser.ConfigParser()\n",
    "dwh_config.read_file(open('./dwh.cfg'))\n",
    "\n",
    "conn = psycopg2.connect(\"host={} dbname={} user={} password={} port={}\".format(*dwh_config['CLUSTER'].values()))\n",
    "\n",
    "cur = conn.cursor()"
   ]
  },
  {
   "cell_type": "code",
   "execution_count": 4,
   "metadata": {},
   "outputs": [
    {
     "name": "stdout",
     "output_type": "stream",
     "text": "[(8056,)]\n"
    }
   ],
   "source": [
    "# Get staging_events count \n",
    "query = '''SELECT count(*) FROM staging_events'''\n",
    "cur.execute(query)\n",
    "results = cur.fetchall()\n",
    "print(results)"
   ]
  },
  {
   "cell_type": "code",
   "execution_count": 5,
   "metadata": {},
   "outputs": [
    {
     "name": "stdout",
     "output_type": "stream",
     "text": "[(14896,)]\n"
    }
   ],
   "source": [
    "# Get staging_songs count \n",
    "query = '''SELECT count(*) FROM staging_songs'''\n",
    "cur.execute(query)\n",
    "results = cur.fetchall()\n",
    "print(results)"
   ]
  },
  {
   "cell_type": "code",
   "execution_count": 6,
   "metadata": {},
   "outputs": [
    {
     "name": "stdout",
     "output_type": "stream",
     "text": "[(49, 40), (97, 32), (80, 31), (44, 21), (73, 18), (88, 16), (15, 15), (29, 13), (24, 13), (36, 12)]\n"
    }
   ],
   "source": [
    "# Get most overall active users in terms of playcount, for paid users\n",
    "query = '''\n",
    "    SELECT user_id, count(user_id)\n",
    "    FROM songplays\n",
    "    WHERE level = 'paid'\n",
    "    GROUP BY user_id\n",
    "    ORDER BY count(user_id) DESC\n",
    "    LIMIT 10\n",
    "'''\n",
    "\n",
    "cur.execute(query)\n",
    "results = cur.fetchall()\n",
    "print(results)"
   ]
  },
  {
   "cell_type": "code",
   "execution_count": 7,
   "metadata": {},
   "outputs": [],
   "source": [
    "# Disconnect\n",
    "conn.close()"
   ]
  },
  {
   "cell_type": "code",
   "execution_count": null,
   "metadata": {},
   "outputs": [],
   "source": []
  }
 ]
}
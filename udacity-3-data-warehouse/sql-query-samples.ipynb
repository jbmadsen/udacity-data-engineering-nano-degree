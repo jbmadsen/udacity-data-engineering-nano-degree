{
 "nbformat": 4,
 "nbformat_minor": 2,
 "metadata": {
  "language_info": {
   "name": "python",
   "codemirror_mode": {
    "name": "ipython",
    "version": 3
   },
   "version": "3.7.4-final"
  },
  "orig_nbformat": 2,
  "file_extension": ".py",
  "mimetype": "text/x-python",
  "name": "python",
  "npconvert_exporter": "python",
  "pygments_lexer": "ipython3",
  "version": 3,
  "kernelspec": {
   "name": "python3",
   "display_name": "Python 3"
  }
 },
 "cells": [
  {
   "cell_type": "code",
   "execution_count": null,
   "metadata": {},
   "outputs": [],
   "source": [
    "# Import needed libraries\n",
    "import os\n",
    "import sys\n",
    "import psycopg2\n",
    "import pandas as pd \n",
    "import boto3\n",
    "import botocore.exceptions\n",
    "import json\n",
    "import configparser"
   ]
  },
  {
   "cell_type": "code",
   "execution_count": null,
   "metadata": {},
   "outputs": [],
   "source": [
    "# Test connection\n",
    "try:\n",
    "    dwh_config = configparser.ConfigParser()\n",
    "    dwh_config.read_file(open('./dwh.cfg'))\n",
    "\n",
    "    conn = psycopg2.connect(\"host={} dbname={} user={} password={} port={}\".format(*dwh_config['CLUSTER'].values()))\n",
    "\n",
    "    cur = conn.cursor()\n",
    "    print('Connected to AWS Redshift cluster')\n",
    "    conn.close()\n",
    "except Exception as e:\n",
    "    print(\"Error connecting to Redshift cluster:\", e)"
   ]
  },
  {
   "cell_type": "code",
   "execution_count": null,
   "metadata": {},
   "outputs": [],
   "source": []
  }
 ]
}
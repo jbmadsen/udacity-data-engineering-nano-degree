{
 "cells": [
  {
   "cell_type": "code",
   "execution_count": 6,
   "metadata": {
    "editable": true
   },
   "outputs": [],
   "source": [
    "# Load in all required libraries\n",
    "import pandas as pd \n",
    "import boto3\n",
    "import json\n",
    "import configparser"
   ]
  },
  {
   "cell_type": "code",
   "execution_count": 16,
   "metadata": {
    "editable": true
   },
   "outputs": [],
   "source": [
    "# Open and read the contents of the config file\n",
    "ioc_config = configparser.ConfigParser()\n",
    "ioc_config.read_file(open('./dwh-ioc.cfg'))"
   ]
  },
  {
   "cell_type": "code",
   "execution_count": 17,
   "metadata": {
    "editable": true
   },
   "outputs": [],
   "source": [
    "# Load all the keys needed to create AWS services\n",
    "KEY                    = ioc_config.get('AWS','KEY')\n",
    "SECRET                 = ioc_config.get('AWS','SECRET')\n",
    "\n",
    "DWH_REGION             = ioc_config.get(\"DWH\",\"DWH_REGION\")\n",
    "DWH_CLUSTER_TYPE       = ioc_config.get(\"DWH\",\"DWH_CLUSTER_TYPE\")\n",
    "DWH_NUM_NODES          = ioc_config.get(\"DWH\",\"DWH_NUM_NODES\")\n",
    "DWH_NODE_TYPE          = ioc_config.get(\"DWH\",\"DWH_NODE_TYPE\")\n",
    "\n",
    "DWH_CLUSTER_IDENTIFIER = ioc_config.get(\"DWH\",\"DWH_CLUSTER_IDENTIFIER\")\n",
    "DWH_DB                 = ioc_config.get(\"DWH\",\"DWH_DB\")\n",
    "DWH_DB_USER            = ioc_config.get(\"DWH\",\"DWH_DB_USER\")\n",
    "DWH_DB_PASSWORD        = ioc_config.get(\"DWH\",\"DWH_DB_PASSWORD\")\n",
    "DWH_PORT               = ioc_config.get(\"DWH\",\"DWH_PORT\")\n",
    "\n",
    "DWH_IAM_ROLE_NAME      = ioc_config.get(\"DWH\", \"DWH_IAM_ROLE_NAME\")"
   ]
  },
  {
   "cell_type": "code",
   "execution_count": 18,
   "metadata": {
    "editable": true
   },
   "outputs": [
    {
     "name": "stdout",
     "output_type": "stream",
     "text": [
      "                    Param         Value\n",
      "0              DWH_REGION  eu-central-1\n",
      "1        DWH_CLUSTER_TYPE    multi-node\n",
      "2           DWH_NUM_NODES             4\n",
      "3           DWH_NODE_TYPE     dc2.large\n",
      "4  DWH_CLUSTER_IDENTIFIER    dwhCluster\n",
      "5                  DWH_DB           dwh\n",
      "6             DWH_DB_USER       awsuser\n",
      "7         DWH_DB_PASSWORD           XXX\n",
      "8                DWH_PORT          5439\n",
      "9       DWH_IAM_ROLE_NAME       dwhRole\n"
     ]
    }
   ],
   "source": [
    "# Display the parameters for creating the DWH cluster\n",
    "df = pd.DataFrame({\n",
    "        \"Param\":[\"DWH_REGION\", \"DWH_CLUSTER_TYPE\", \"DWH_NUM_NODES\", \"DWH_NODE_TYPE\", \"DWH_CLUSTER_IDENTIFIER\", \"DWH_DB\", \"DWH_DB_USER\", \"DWH_DB_PASSWORD\", \"DWH_PORT\", \"DWH_IAM_ROLE_NAME\"],\n",
    "        \"Value\":[DWH_REGION, DWH_CLUSTER_TYPE, DWH_NUM_NODES, DWH_NODE_TYPE, DWH_CLUSTER_IDENTIFIER, DWH_DB, DWH_DB_USER, DWH_DB_PASSWORD, DWH_PORT, DWH_IAM_ROLE_NAME]\n",
    "    })\n",
    "\n",
    "print(df)"
   ]
  },
  {
   "cell_type": "code",
   "execution_count": 22,
   "metadata": {
    "editable": true
   },
   "outputs": [],
   "source": [
    "# Creating resources/clients for all needed infrastructure: EC2, S3, IAM, Redshift\n",
    "def create_client(name, func):\n",
    "    print(\"Creating client for\", name)\n",
    "    return func(name,\n",
    "                region_name=DWH_REGION,\n",
    "                aws_access_key_id=KEY,\n",
    "                aws_secret_access_key=SECRET)\n",
    "\n",
    "\n",
    "ec2 = create_client('ec2', boto3.resource)\n",
    "s3 = create_client('s3', boto3.resource)\n",
    "iam = create_client('iam', boto3.client)\n",
    "redshift = create_client('redshift', boto3.client)"
   ]
  },
  {
   "cell_type": "code",
   "execution_count": 24,
   "metadata": {
    "editable": true
   },
   "outputs": [
    {
     "name": "stdout",
     "output_type": "stream",
     "text": [
      "Creating a new IAM Role\n"
     ]
    },
    {
     "ename": "ClientError",
     "evalue": "An error occurred (InvalidClientTokenId) when calling the CreateRole operation: The security token included in the request is invalid.",
     "output_type": "error",
     "traceback": [
      "\u001b[0;31m---------------------------------------------------------------------------\u001b[0m",
      "\u001b[0;31mClientError\u001b[0m                               Traceback (most recent call last)",
      "\u001b[0;32m<ipython-input-24-69aa95797914>\u001b[0m in \u001b[0;36m<module>\u001b[0;34m()\u001b[0m\n\u001b[1;32m      7\u001b[0m                                                                               \u001b[0;34m'Effect'\u001b[0m\u001b[0;34m:\u001b[0m \u001b[0;34m'Allow'\u001b[0m\u001b[0;34m,\u001b[0m\u001b[0;34m\u001b[0m\u001b[0m\n\u001b[1;32m      8\u001b[0m                                                                               'Principal': {'Service': 'redshift.amazonaws.com'}}],\n\u001b[0;32m----> 9\u001b[0;31m                                                                'Version': '2012-10-17'}\n\u001b[0m\u001b[1;32m     10\u001b[0m                                                              )\n\u001b[1;32m     11\u001b[0m                          )\n",
      "\u001b[0;32m/opt/conda/lib/python3.6/site-packages/botocore/client.py\u001b[0m in \u001b[0;36m_api_call\u001b[0;34m(self, *args, **kwargs)\u001b[0m\n\u001b[1;32m    318\u001b[0m                     \"%s() only accepts keyword arguments.\" % py_operation_name)\n\u001b[1;32m    319\u001b[0m             \u001b[0;31m# The \"self\" in this scope is referring to the BaseClient.\u001b[0m\u001b[0;34m\u001b[0m\u001b[0;34m\u001b[0m\u001b[0m\n\u001b[0;32m--> 320\u001b[0;31m             \u001b[0;32mreturn\u001b[0m \u001b[0mself\u001b[0m\u001b[0;34m.\u001b[0m\u001b[0m_make_api_call\u001b[0m\u001b[0;34m(\u001b[0m\u001b[0moperation_name\u001b[0m\u001b[0;34m,\u001b[0m \u001b[0mkwargs\u001b[0m\u001b[0;34m)\u001b[0m\u001b[0;34m\u001b[0m\u001b[0m\n\u001b[0m\u001b[1;32m    321\u001b[0m \u001b[0;34m\u001b[0m\u001b[0m\n\u001b[1;32m    322\u001b[0m         \u001b[0m_api_call\u001b[0m\u001b[0;34m.\u001b[0m\u001b[0m__name__\u001b[0m \u001b[0;34m=\u001b[0m \u001b[0mstr\u001b[0m\u001b[0;34m(\u001b[0m\u001b[0mpy_operation_name\u001b[0m\u001b[0;34m)\u001b[0m\u001b[0;34m\u001b[0m\u001b[0m\n",
      "\u001b[0;32m/opt/conda/lib/python3.6/site-packages/botocore/client.py\u001b[0m in \u001b[0;36m_make_api_call\u001b[0;34m(self, operation_name, api_params)\u001b[0m\n\u001b[1;32m    621\u001b[0m             \u001b[0merror_code\u001b[0m \u001b[0;34m=\u001b[0m \u001b[0mparsed_response\u001b[0m\u001b[0;34m.\u001b[0m\u001b[0mget\u001b[0m\u001b[0;34m(\u001b[0m\u001b[0;34m\"Error\"\u001b[0m\u001b[0;34m,\u001b[0m \u001b[0;34m{\u001b[0m\u001b[0;34m}\u001b[0m\u001b[0;34m)\u001b[0m\u001b[0;34m.\u001b[0m\u001b[0mget\u001b[0m\u001b[0;34m(\u001b[0m\u001b[0;34m\"Code\"\u001b[0m\u001b[0;34m)\u001b[0m\u001b[0;34m\u001b[0m\u001b[0m\n\u001b[1;32m    622\u001b[0m             \u001b[0merror_class\u001b[0m \u001b[0;34m=\u001b[0m \u001b[0mself\u001b[0m\u001b[0;34m.\u001b[0m\u001b[0mexceptions\u001b[0m\u001b[0;34m.\u001b[0m\u001b[0mfrom_code\u001b[0m\u001b[0;34m(\u001b[0m\u001b[0merror_code\u001b[0m\u001b[0;34m)\u001b[0m\u001b[0;34m\u001b[0m\u001b[0m\n\u001b[0;32m--> 623\u001b[0;31m             \u001b[0;32mraise\u001b[0m \u001b[0merror_class\u001b[0m\u001b[0;34m(\u001b[0m\u001b[0mparsed_response\u001b[0m\u001b[0;34m,\u001b[0m \u001b[0moperation_name\u001b[0m\u001b[0;34m)\u001b[0m\u001b[0;34m\u001b[0m\u001b[0m\n\u001b[0m\u001b[1;32m    624\u001b[0m         \u001b[0;32melse\u001b[0m\u001b[0;34m:\u001b[0m\u001b[0;34m\u001b[0m\u001b[0m\n\u001b[1;32m    625\u001b[0m             \u001b[0;32mreturn\u001b[0m \u001b[0mparsed_response\u001b[0m\u001b[0;34m\u001b[0m\u001b[0m\n",
      "\u001b[0;31mClientError\u001b[0m: An error occurred (InvalidClientTokenId) when calling the CreateRole operation: The security token included in the request is invalid."
     ]
    }
   ],
   "source": [
    "# Creating IAM role for Redshift, allowing it to use AWS services\n",
    "print(\"Creating a new IAM Role\") \n",
    "iam.create_role(Path='/',\n",
    "                RoleName=DWH_IAM_ROLE_NAME,\n",
    "                Description = \"Allows Redshift clusters to call AWS services on your behalf.\",\n",
    "                AssumeRolePolicyDocument=json.dumps({'Statement': [{'Action': 'sts:AssumeRole',\n",
    "                                                                    'Effect': 'Allow',\n",
    "                                                                    'Principal': {'Service': 'redshift.amazonaws.com'}}],\n",
    "                                                     'Version': '2012-10-17'}\n",
    "                                                   )\n",
    "               )"
   ]
  },
  {
   "cell_type": "code",
   "execution_count": null,
   "metadata": {
    "editable": true
   },
   "outputs": [],
   "source": [
    "# Attaching policy to role, and return the ARN role \n",
    "print(\"Attaching policy to IAM role\")\n",
    "iam.attach_role_policy(RoleName=DWH_IAM_ROLE_NAME,\n",
    "                       PolicyArn=\"arn:aws:iam::aws:policy/AmazonS3ReadOnlyAccess\")['ResponseMetadata']['HTTPStatusCode']\n",
    "roleArn = iam.get_role(RoleName=DWH_IAM_ROLE_NAME)['Role']['Arn']\n",
    "print(\"ARN role:\", roleArn)"
   ]
  },
  {
   "cell_type": "code",
   "execution_count": null,
   "metadata": {
    "editable": true
   },
   "outputs": [],
   "source": [
    "# Creates Redshift cluster (Warning, this costs money - make sure to use it or delete it again!)\n",
    "redshift.create_cluster(\n",
    "    #Hardware provisioned\n",
    "    ClusterType=DWH_CLUSTER_TYPE,\n",
    "    NodeType=DWH_NODE_TYPE,\n",
    "    NumberOfNodes=int(DWH_NUM_NODES),\n",
    "\n",
    "    #Identifiers & Credentials\n",
    "    DBName=DWH_DB,\n",
    "    ClusterIdentifier=DWH_CLUSTER_IDENTIFIER,\n",
    "    MasterUsername=DWH_DB_USER,\n",
    "    MasterUserPassword=DWH_DB_PASSWORD,\n",
    "            \n",
    "    #Roles (for s3 access)\n",
    "    IamRoles=[roleArn]  \n",
    ")"
   ]
  },
  {
   "cell_type": "code",
   "execution_count": null,
   "metadata": {
    "editable": true
   },
   "outputs": [],
   "source": [
    "# Get endpoint and ARN role for cluster\n",
    "cluster_properties = redshift.describe_clusters(ClusterIdentifier=DWH_CLUSTER_IDENTIFIER)['Clusters'][0]\n",
    "\n",
    "DWH_ENDPOINT = myClusterProps['Endpoint']['Address']\n",
    "DWH_ROLE_ARN = myClusterProps['IamRoles'][0]['IamRoleArn']\n",
    "print(\"DWH_ENDPOINT:\", DWH_ENDPOINT)\n",
    "print(\"DWH_ROLE_ARN:\", DWH_ROLE_ARN)"
   ]
  },
  {
   "cell_type": "code",
   "execution_count": null,
   "metadata": {
    "editable": true
   },
   "outputs": [],
   "source": [
    "# Update cluster security group to allow access through redshift port\n",
    "vpc = ec2.Vpc(id=myClusterProps['VpcId'])\n",
    "\n",
    "# The first Security group should be the default one\n",
    "defaultSg = list(vpc.security_groups.all())[0]\n",
    "print(\"Default Security group:\", defaultSg)\n",
    "\n",
    "# Authorize access\n",
    "defaultSg.authorize_ingress(GroupName=defaultSg.group_name,\n",
    "                            CidrIp='0.0.0.0/0',\n",
    "                            IpProtocol='TCP',\n",
    "                            FromPort=int(DWH_PORT),\n",
    "                            ToPort=int(DWH_PORT)\n",
    "                           )"
   ]
  },
  {
   "cell_type": "code",
   "execution_count": null,
   "metadata": {
    "editable": true
   },
   "outputs": [],
   "source": [
    "# Test connection\n",
    "dwh_config = configparser.ConfigParser()\n",
    "dwh_config.read_file(open('./dwh.cfg'))\n",
    "\n",
    "conn = psycopg2.connect(\"host={} dbname={} user={} password={} port={}\".format(*config['CLUSTER'].values()))\n",
    "\n",
    "cur = conn.cursor()\n",
    "print('Connected to AWS Redshift cluster')\n",
    "conn.close()"
   ]
  },
  {
   "cell_type": "code",
   "execution_count": null,
   "metadata": {
    "editable": true
   },
   "outputs": [],
   "source": []
  },
  {
   "cell_type": "code",
   "execution_count": null,
   "metadata": {
    "editable": true
   },
   "outputs": [],
   "source": []
  },
  {
   "cell_type": "code",
   "execution_count": null,
   "metadata": {
    "editable": true
   },
   "outputs": [],
   "source": []
  },
  {
   "cell_type": "code",
   "execution_count": null,
   "metadata": {
    "editable": true
   },
   "outputs": [],
   "source": []
  }
 ],
 "metadata": {
  "kernelspec": {
   "display_name": "Python 3",
   "language": "python",
   "name": "python3"
  },
  "language_info": {
   "codemirror_mode": {
    "name": "ipython",
    "version": 3
   },
   "file_extension": ".py",
   "mimetype": "text/x-python",
   "name": "python",
   "nbconvert_exporter": "python",
   "pygments_lexer": "ipython3",
   "version": "3.6.3"
  }
 },
 "nbformat": 4,
 "nbformat_minor": 4
}

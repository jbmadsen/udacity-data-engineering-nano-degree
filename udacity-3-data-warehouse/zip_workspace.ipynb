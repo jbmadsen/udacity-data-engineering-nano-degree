{
 "cells": [
  {
   "cell_type": "code",
   "execution_count": 3,
   "metadata": {
    "editable": true
   },
   "outputs": [
    {
     "name": "stderr",
     "output_type": "stream",
     "text": [
      "/opt/conda/lib/python3.6/zipfile.py:1355: UserWarning: Duplicate name: 'infrastructure-as-code-samples.ipynb'\n",
      "  return self._open_to_write(zinfo, force_zip64=force_zip64)\n",
      "/opt/conda/lib/python3.6/zipfile.py:1355: UserWarning: Duplicate name: 'ioc-create.py'\n",
      "  return self._open_to_write(zinfo, force_zip64=force_zip64)\n",
      "/opt/conda/lib/python3.6/zipfile.py:1355: UserWarning: Duplicate name: 'dwh-ioc.cfg'\n",
      "  return self._open_to_write(zinfo, force_zip64=force_zip64)\n",
      "/opt/conda/lib/python3.6/zipfile.py:1355: UserWarning: Duplicate name: 'etl.py'\n",
      "  return self._open_to_write(zinfo, force_zip64=force_zip64)\n",
      "/opt/conda/lib/python3.6/zipfile.py:1355: UserWarning: Duplicate name: 'zip_workspace.ipynb'\n",
      "  return self._open_to_write(zinfo, force_zip64=force_zip64)\n",
      "/opt/conda/lib/python3.6/zipfile.py:1355: UserWarning: Duplicate name: 'dwh.cfg'\n",
      "  return self._open_to_write(zinfo, force_zip64=force_zip64)\n",
      "/opt/conda/lib/python3.6/zipfile.py:1355: UserWarning: Duplicate name: 'sql_queries.py'\n",
      "  return self._open_to_write(zinfo, force_zip64=force_zip64)\n",
      "/opt/conda/lib/python3.6/zipfile.py:1355: UserWarning: Duplicate name: 'README.md'\n",
      "  return self._open_to_write(zinfo, force_zip64=force_zip64)\n",
      "/opt/conda/lib/python3.6/zipfile.py:1355: UserWarning: Duplicate name: 'create_tables.py'\n",
      "  return self._open_to_write(zinfo, force_zip64=force_zip64)\n",
      "/opt/conda/lib/python3.6/zipfile.py:1355: UserWarning: Duplicate name: 'ioc-destroy.py'\n",
      "  return self._open_to_write(zinfo, force_zip64=force_zip64)\n"
     ]
    }
   ],
   "source": [
    "\"\"\" \n",
    "Source: https://stackoverflow.com/questions/48122744/how-to-download-all-files-and-folder-hierarchy-from-jupyter-notebook\n",
    "JBMA: Changed save format to zipfile instead of tarfile\n",
    "\"\"\"\n",
    "import os\n",
    "#import tarfile\n",
    "import zipfile\n",
    "\n",
    "\n",
    "def recursive_files(dir_name='.', ignore=None):\n",
    "    for dir_name,subdirs,files in os.walk(dir_name):\n",
    "        if ignore and os.path.basename(dir_name) in ignore:\n",
    "            continue\n",
    "\n",
    "        for file_name in files:\n",
    "            if ignore and file_name in ignore:\n",
    "                continue\n",
    "\n",
    "            yield os.path.join(dir_name, file_name)\n",
    "\n",
    "            \n",
    "def make_download_file(dir_name='.', target_file_name='workspace_archive.zip', ignore=None):\n",
    "    #tar = tarfile.open(target_file_name, 'w')\n",
    "    zipf = zipfile.ZipFile( file='workspace_archive.zip', mode='a', compression=zipfile.ZIP_DEFLATED )\n",
    "\n",
    "    for file_name in recursive_files(dir_name, ignore):\n",
    "        #tar.add(file_name)\n",
    "        zipf.write(file_name)\n",
    "\n",
    "    #tar.close()\n",
    "    zipf.close()\n",
    "\n",
    "\n",
    "dir_name = '.'\n",
    "target_file_name = 'workspace_archive.zip'\n",
    "# List of files/directories to ignore\n",
    "ignore = {'.ipynb_checkpoints', '__pycache__', target_file_name}\n",
    "\n",
    "make_download_file(dir_name, target_file_name, ignore)"
   ]
  },
  {
   "cell_type": "code",
   "execution_count": null,
   "metadata": {
    "editable": true
   },
   "outputs": [],
   "source": []
  }
 ],
 "metadata": {
  "kernelspec": {
   "display_name": "Python 3",
   "language": "python",
   "name": "python3"
  },
  "language_info": {
   "codemirror_mode": {
    "name": "ipython",
    "version": 3
   },
   "file_extension": ".py",
   "mimetype": "text/x-python",
   "name": "python",
   "nbconvert_exporter": "python",
   "pygments_lexer": "ipython3",
   "version": "3.6.3"
  }
 },
 "nbformat": 4,
 "nbformat_minor": 4
}

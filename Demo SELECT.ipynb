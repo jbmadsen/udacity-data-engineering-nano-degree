{
 "cells": [
  {
   "cell_type": "code",
   "execution_count": 3,
   "metadata": {
    "editable": true
   },
   "outputs": [
    {
     "name": "stdout",
     "output_type": "stream",
     "text": [
      "('SOINLJW12A8C13314C', 'City Slickers', 'AR8IEZO1187B99055E', 2008, Decimal('149.86404'), 'AR8IEZO1187B99055E', 'Marc Shaiman', '', None, None)\n",
      "City Slickers\n",
      "Marc Shaiman\n",
      "149.86404\n",
      "b\"\\nSELECT s.song_id, s.artist_id\\nFROM songs s\\nLEFT JOIN artists a ON a.artist_id = s.artist_id\\nWHERE s.title = 'City Slickers'\\n    and a.name = 'Marc Shaiman'\\n    and s.duration = 149.86404\\nLIMIt 1;\\n\"\n",
      "('SOINLJW12A8C13314C', 'AR8IEZO1187B99055E')\n",
      "\n"
     ]
    }
   ],
   "source": [
    "import os\n",
    "import glob\n",
    "import psycopg2\n",
    "import pandas as pd\n",
    "from sql_queries import *\n",
    "\n",
    "conn = psycopg2.connect(\"host=127.0.0.1 dbname=sparkifydb user=student password=student\")\n",
    "cur = conn.cursor()\n",
    "\n",
    "song_select = (\"\"\"\n",
    "SELECT *\n",
    "FROM songs s\n",
    "LEFT JOIN artists a ON a.artist_id = s.artist_id\n",
    "LIMIt 1;\n",
    "\"\"\")\n",
    "\n",
    "cur.execute(song_select)\n",
    "#cur.execute(song_select, {'song': song, 'artist': artist, 'length': length})\n",
    "results = cur.fetchall()\n",
    "\n",
    "for res in results:\n",
    "    print(res)\n",
    "\n",
    "    \n",
    "song_select = (\"\"\"\n",
    "SELECT s.song_id, s.artist_id\n",
    "FROM songs s\n",
    "LEFT JOIN artists a ON a.artist_id = s.artist_id\n",
    "WHERE s.title = %(song)s\n",
    "    and a.name = %(artist)s\n",
    "    and s.duration = %(length)s\n",
    "LIMIt 1;\n",
    "\"\"\")\n",
    "\n",
    "song = res[1]\n",
    "print(song)\n",
    "artist = res[6]\n",
    "print(artist)\n",
    "length = res[4]\n",
    "print(length)\n",
    "\n",
    "cur.execute(song_select, {'song': song, 'artist': artist, 'length': length})\n",
    "results = cur.fetchone()\n",
    "\n",
    "print(cur.query)\n",
    "print(results)\n",
    "\n",
    "\n",
    "print('')\n",
    "conn.close()"
   ]
  },
  {
   "cell_type": "code",
   "execution_count": 2,
   "metadata": {
    "editable": true
   },
   "outputs": [
    {
     "name": "stdout",
     "output_type": "stream",
     "text": [
      "(1, 1542837407796, 15, 'paid', 'SOZCTXZ12AB0182364', 'AR5KOSW1187FB35FF4', 818, 'Chicago-Naperville-Elgin, IL-IN-WI', '\"Mozilla/5.0 (X11; Linux x86_64) AppleWebKit/537.36 (KHTML, like Gecko) Ubuntu Chromium/36.0.1985.125 Chrome/36.0.1985.125 Safari/537.36\"', 'AR5KOSW1187FB35FF4', 'Elena', 'Dubai UAE', 49.8039, 15.4749, 'SOZCTXZ12AB0182364', 'Setanta matins', 'AR5KOSW1187FB35FF4', 0, Decimal('269.58322'))\n",
      "\n"
     ]
    }
   ],
   "source": [
    "import os\n",
    "import glob\n",
    "import psycopg2\n",
    "import pandas as pd\n",
    "from sql_queries import *\n",
    "\n",
    "conn = psycopg2.connect(\"host=127.0.0.1 dbname=sparkifydb user=student password=student\")\n",
    "cur = conn.cursor()\n",
    "\n",
    "song_select = (\"\"\"\n",
    "SELECT *\n",
    "FROM songplays sp\n",
    "LEFT JOIN artists a ON a.artist_id = sp.artist_id\n",
    "LEFT JOIN songs s ON s.song_id = sp.song_id\n",
    "\"\"\")\n",
    "\n",
    "cur.execute(song_select)\n",
    "#cur.execute(song_select, {'song': song, 'artist': artist, 'length': length})\n",
    "results = cur.fetchall()\n",
    "\n",
    "for res in results:\n",
    "    print(res)\n",
    "\n",
    "print('')\n",
    "conn.close()"
   ]
  },
  {
   "cell_type": "code",
   "execution_count": null,
   "metadata": {
    "editable": true
   },
   "outputs": [],
   "source": []
  },
  {
   "cell_type": "code",
   "execution_count": null,
   "metadata": {
    "editable": true
   },
   "outputs": [],
   "source": []
  },
  {
   "cell_type": "code",
   "execution_count": null,
   "metadata": {
    "editable": true
   },
   "outputs": [],
   "source": []
  },
  {
   "cell_type": "code",
   "execution_count": null,
   "metadata": {
    "editable": true
   },
   "outputs": [],
   "source": []
  },
  {
   "cell_type": "code",
   "execution_count": null,
   "metadata": {
    "editable": true
   },
   "outputs": [],
   "source": []
  },
  {
   "cell_type": "code",
   "execution_count": null,
   "metadata": {
    "editable": true
   },
   "outputs": [],
   "source": []
  }
 ],
 "metadata": {
  "kernelspec": {
   "display_name": "Python 3",
   "language": "python",
   "name": "python3"
  },
  "language_info": {
   "codemirror_mode": {
    "name": "ipython",
    "version": 3
   },
   "file_extension": ".py",
   "mimetype": "text/x-python",
   "name": "python",
   "nbconvert_exporter": "python",
   "pygments_lexer": "ipython3",
   "version": "3.6.3"
  }
 },
 "nbformat": 4,
 "nbformat_minor": 4
}

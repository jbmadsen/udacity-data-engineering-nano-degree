{
 "cells": [
  {
   "cell_type": "code",
   "execution_count": 6,
   "metadata": {
    "editable": true
   },
   "outputs": [],
   "source": [
    "import os\n",
    "import glob\n",
    "import pandas as pd\n",
    "from sql_queries import *"
   ]
  },
  {
   "cell_type": "code",
   "execution_count": 7,
   "metadata": {
    "editable": true
   },
   "outputs": [],
   "source": [
    "def get_files(filepath):\n",
    "    all_files = []\n",
    "    for root, dirs, files in os.walk(filepath):\n",
    "        files = glob.glob(os.path.join(root,'*.json'))\n",
    "        for f in files :\n",
    "            all_files.append(os.path.abspath(f))\n",
    "    \n",
    "    return all_files"
   ]
  },
  {
   "cell_type": "code",
   "execution_count": 86,
   "metadata": {
    "editable": true
   },
   "outputs": [
    {
     "data": {
      "text/plain": [
       "['Marc Shaiman', '40 Grit', 'Gwen Stefani', 'Sophie B. Hawkins', 'Bitter End']"
      ]
     },
     "execution_count": 86,
     "metadata": {},
     "output_type": "execute_result"
    }
   ],
   "source": [
    "song_files = get_files('./data/song_data')\n",
    "\n",
    "songs_df = pd.DataFrame()\n",
    "\n",
    "for filepath in song_files:\n",
    "    tmp = pd.DataFrame([pd.read_json(filepath, typ='series')])\n",
    "    songs_df = songs_df.append(tmp)\n",
    "    \n",
    "songs_artist_names = list(songs_df['artist_name'])\n",
    "\n",
    "songs_artist_names[0:5]"
   ]
  },
  {
   "cell_type": "code",
   "execution_count": 85,
   "metadata": {
    "editable": true
   },
   "outputs": [
    {
     "data": {
      "text/plain": [
       "['Sydney Youngblood', 'Gang Starr', '3OH!3', 'RÃ\\x83Â¶yksopp', 'Kajagoogoo']"
      ]
     },
     "execution_count": 85,
     "metadata": {},
     "output_type": "execute_result"
    }
   ],
   "source": [
    "log_files = get_files('./data/log_data')\n",
    "\n",
    "logs_df = pd.DataFrame()\n",
    "\n",
    "for filepath in log_files:\n",
    "    tmp = pd.read_json(filepath, lines=True, orient='columns')\n",
    "    logs_df = logs_df.append(tmp)\n",
    "    \n",
    "logs_artist_names = list(logs_df['artist'])\n",
    "\n",
    "logs_artist_names[0:5]"
   ]
  },
  {
   "cell_type": "code",
   "execution_count": 87,
   "metadata": {
    "editable": true
   },
   "outputs": [
    {
     "data": {
      "text/plain": [
       "{'Blue Rodeo',\n",
       " 'Elena',\n",
       " 'Gob',\n",
       " 'Gwen Stefani',\n",
       " 'Jimmy Wakely',\n",
       " 'Line Renaud',\n",
       " 'Lionel Richie',\n",
       " 'Lupe Fiasco',\n",
       " 'Sophie B. Hawkins',\n",
       " 'Tom Petty',\n",
       " 'Trafik'}"
      ]
     },
     "execution_count": 87,
     "metadata": {},
     "output_type": "execute_result"
    }
   ],
   "source": [
    "set(songs_artist_names) & set(logs_artist_names)"
   ]
  },
  {
   "cell_type": "code",
   "execution_count": 89,
   "metadata": {
    "editable": true
   },
   "outputs": [
    {
     "data": {
      "text/plain": [
       "{'40 Grit',\n",
       " 'Adam Ant',\n",
       " 'Alice Stuart',\n",
       " 'Andy Andy',\n",
       " 'Backstreet Boys',\n",
       " 'Billie Jo Spears',\n",
       " 'Bitter End',\n",
       " 'Blingtones',\n",
       " 'Bob Azzam',\n",
       " 'Bombay Rockers',\n",
       " 'Casual',\n",
       " 'Chase & Status',\n",
       " 'Christos Dantis',\n",
       " 'Clp',\n",
       " 'Danilo Perez',\n",
       " 'David Martin',\n",
       " 'Eddie Calvert',\n",
       " 'Faiz Ali Faiz',\n",
       " 'Faye Adams',\n",
       " 'Five Bolt Main',\n",
       " 'Glad',\n",
       " 'Gloriana',\n",
       " 'Jeff And Sheri Easter',\n",
       " 'JennyAnyKind',\n",
       " 'Jinx',\n",
       " 'John Davis',\n",
       " 'John Wesley',\n",
       " 'Kenny G featuring Daryl Hall',\n",
       " 'King Curtis',\n",
       " 'Los Manolos',\n",
       " 'Luna Orbit Project',\n",
       " 'Marc Shaiman',\n",
       " \"Mike Jones (Featuring CJ_ Mello & Lil' Bran)\",\n",
       " 'Mitch Ryder',\n",
       " 'Montserrat Caballé;Placido Domingo;Vicente Sardinero;Judith Blegen;Sherrill Milnes;Georg Solti',\n",
       " 'Nick Ingman;Gavyn Wright',\n",
       " 'Planet P Project',\n",
       " 'Pucho & His Latin Soul Brothers',\n",
       " 'Rated R',\n",
       " 'Richard Souther',\n",
       " 'SUE THOMPSON',\n",
       " 'Sierra Maestra',\n",
       " 'Sonora Santanera',\n",
       " 'Soul Mekanik',\n",
       " 'Steel Rain',\n",
       " 'Steve Morse',\n",
       " 'Terry Callier',\n",
       " 'Tesla',\n",
       " 'The Box Tops',\n",
       " 'The Dillinger Escape Plan',\n",
       " 'The Shangri-Las',\n",
       " 'Tim Wilson',\n",
       " 'Tiny Tim',\n",
       " 'Tweeterfriendly Music',\n",
       " 'Wayne Watson',\n",
       " 'Wilks',\n",
       " 'Willie Bobo',\n",
       " 'lextrical'}"
      ]
     },
     "execution_count": 89,
     "metadata": {},
     "output_type": "execute_result"
    }
   ],
   "source": [
    "set(songs_artist_names).difference(logs_artist_names)"
   ]
  },
  {
   "cell_type": "code",
   "execution_count": null,
   "metadata": {
    "editable": true
   },
   "outputs": [],
   "source": []
  }
 ],
 "metadata": {
  "kernelspec": {
   "display_name": "Python 3",
   "language": "python",
   "name": "python3"
  },
  "language_info": {
   "codemirror_mode": {
    "name": "ipython",
    "version": 3
   },
   "file_extension": ".py",
   "mimetype": "text/x-python",
   "name": "python",
   "nbconvert_exporter": "python",
   "pygments_lexer": "ipython3",
   "version": "3.6.3"
  }
 },
 "nbformat": 4,
 "nbformat_minor": 4
}
